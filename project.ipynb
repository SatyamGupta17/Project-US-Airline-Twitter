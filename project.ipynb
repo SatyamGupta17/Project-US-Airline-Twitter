{
 "cells": [
  {
   "attachments": {},
   "cell_type": "markdown",
   "metadata": {},
   "source": [
    "# Project US Airline Twiter\n",
    "1. Import the Libraries\n",
    "2. Import the datasets and remove the unwanted features\n",
    "3. Cleaning the data \n",
    "4. Creating the vocab and data formatting\n",
    "5. split the train datasets and predict the score \n",
    "6. Save the data\n"
   ]
  },
  {
   "cell_type": "code",
   "execution_count": 1,
   "metadata": {},
   "outputs": [],
   "source": [
    "# Import the Libaries\n",
    "\n",
    "import pandas as pd\n",
    "from sklearn.model_selection import train_test_split\n",
    "from sklearn.linear_model import LogisticRegression\n",
    "from sklearn.svm import SVC\n",
    "from sklearn.feature_extraction.text import CountVectorizer, TfidfVectorizer\n",
    "import re\n",
    "from nltk.corpus import stopwords\n",
    "from string import punctuation"
   ]
  },
  {
   "cell_type": "code",
   "execution_count": 2,
   "metadata": {},
   "outputs": [],
   "source": [
    "# Import the data\n",
    "\n",
    "train = pd.read_csv('training_twitter_x_y_train.csv')\n",
    "test = pd.read_csv('test_twitter_x_test.csv')"
   ]
  },
  {
   "cell_type": "code",
   "execution_count": 3,
   "metadata": {},
   "outputs": [],
   "source": [
    "# Remove the unwanted features\n",
    "\n",
    "clean_col = ['tweet_id', 'airline_sentiment_gold', 'name', 'retweet_count', 'tweet_coord', 'tweet_created', 'tweet_location', 'user_timezone']\n",
    "train.drop(clean_col, axis = 1, inplace  =  True)\n",
    "test.drop(clean_col,axis = 1, inplace = True)"
   ]
  },
  {
   "cell_type": "code",
   "execution_count": 4,
   "metadata": {},
   "outputs": [
    {
     "data": {
      "text/plain": [
       "array([nan, 'Customer Service Issue',\n",
       "       'Late Flight\\nFlight Attendant Complaints', \"Can't Tell\",\n",
       "       'Cancelled Flight\\nCustomer Service Issue', 'Late Flight',\n",
       "       'Late Flight\\nCancelled Flight',\n",
       "       'Customer Service Issue\\nLost Luggage',\n",
       "       \"Customer Service Issue\\nCan't Tell\", 'Bad Flight',\n",
       "       'Lost Luggage\\nDamaged Luggage', 'Cancelled Flight'], dtype=object)"
      ]
     },
     "execution_count": 4,
     "metadata": {},
     "output_type": "execute_result"
    }
   ],
   "source": [
    "train['airline'].unique()\n",
    "train.negativereason_gold.unique()"
   ]
  },
  {
   "cell_type": "code",
   "execution_count": 5,
   "metadata": {},
   "outputs": [],
   "source": [
    "# stop_word and punctuations\n",
    "\n",
    "stops = stopwords.words('english')\n",
    "stops += list(punctuation)\n",
    "stops += ['flight', 'airline', 'flights', 'AA']\n",
    "abbreviations ={'ppl' : 'people','cust':'customer','serv':'service','mins':'minutes','hrs':'hours','svc': 'service','u':'you','pls':'please' }"
   ]
  },
  {
   "cell_type": "code",
   "execution_count": 6,
   "metadata": {},
   "outputs": [
    {
     "data": {
      "text/html": [
       "<div>\n",
       "<style scoped>\n",
       "    .dataframe tbody tr th:only-of-type {\n",
       "        vertical-align: middle;\n",
       "    }\n",
       "\n",
       "    .dataframe tbody tr th {\n",
       "        vertical-align: top;\n",
       "    }\n",
       "\n",
       "    .dataframe thead th {\n",
       "        text-align: right;\n",
       "    }\n",
       "</style>\n",
       "<table border=\"1\" class=\"dataframe\">\n",
       "  <thead>\n",
       "    <tr style=\"text-align: right;\">\n",
       "      <th></th>\n",
       "      <th>airline_sentiment</th>\n",
       "      <th>airline</th>\n",
       "      <th>negativereason_gold</th>\n",
       "      <th>text</th>\n",
       "    </tr>\n",
       "  </thead>\n",
       "  <tbody>\n",
       "    <tr>\n",
       "      <th>0</th>\n",
       "      <td>negative</td>\n",
       "      <td>Southwest</td>\n",
       "      <td>NaN</td>\n",
       "      <td>@SouthwestAir I am scheduled for the morning, ...</td>\n",
       "    </tr>\n",
       "    <tr>\n",
       "      <th>1</th>\n",
       "      <td>positive</td>\n",
       "      <td>Southwest</td>\n",
       "      <td>NaN</td>\n",
       "      <td>@SouthwestAir seeing your workers time in and ...</td>\n",
       "    </tr>\n",
       "    <tr>\n",
       "      <th>2</th>\n",
       "      <td>positive</td>\n",
       "      <td>United</td>\n",
       "      <td>NaN</td>\n",
       "      <td>@united Flew ORD to Miami and back and  had gr...</td>\n",
       "    </tr>\n",
       "    <tr>\n",
       "      <th>3</th>\n",
       "      <td>negative</td>\n",
       "      <td>Southwest</td>\n",
       "      <td>NaN</td>\n",
       "      <td>@SouthwestAir @dultch97 that's horse radish 😤🐴</td>\n",
       "    </tr>\n",
       "    <tr>\n",
       "      <th>4</th>\n",
       "      <td>negative</td>\n",
       "      <td>United</td>\n",
       "      <td>NaN</td>\n",
       "      <td>@united so our flight into ORD was delayed bec...</td>\n",
       "    </tr>\n",
       "  </tbody>\n",
       "</table>\n",
       "</div>"
      ],
      "text/plain": [
       "  airline_sentiment    airline negativereason_gold  \\\n",
       "0          negative  Southwest                 NaN   \n",
       "1          positive  Southwest                 NaN   \n",
       "2          positive     United                 NaN   \n",
       "3          negative  Southwest                 NaN   \n",
       "4          negative     United                 NaN   \n",
       "\n",
       "                                                text  \n",
       "0  @SouthwestAir I am scheduled for the morning, ...  \n",
       "1  @SouthwestAir seeing your workers time in and ...  \n",
       "2  @united Flew ORD to Miami and back and  had gr...  \n",
       "3     @SouthwestAir @dultch97 that's horse radish 😤🐴  \n",
       "4  @united so our flight into ORD was delayed bec...  "
      ]
     },
     "execution_count": 6,
     "metadata": {},
     "output_type": "execute_result"
    }
   ],
   "source": [
    "train.head(5)"
   ]
  },
  {
   "cell_type": "code",
   "execution_count": 7,
   "metadata": {},
   "outputs": [
    {
     "data": {
      "text/plain": [
       "' I am scheduled for the morning, 2 days after the fact, yes..not sure why my evening flight was the only one Cancelled Flightled'"
      ]
     },
     "execution_count": 7,
     "metadata": {},
     "output_type": "execute_result"
    }
   ],
   "source": [
    "# Sample data\n",
    "\n",
    "tweet = train.loc[0, 'text']\n",
    "tweet = re.sub('((www\\.[^\\s]+)|(https?://[^\\s]+))','',tweet) #remove links\n",
    "tweet = re.sub('@[^\\s]+','',tweet) #remove usernames\n",
    "tweet = re.sub('[\\s]+', ' ', tweet) #remove additional whitespaces\n",
    "tweet = re.sub(r'#([^\\s]+)', r'\\1', tweet) #replace #word with word\n",
    "tweet = tweet.strip('\\'\"') #trim tweet\n",
    "tweet"
   ]
  },
  {
   "cell_type": "code",
   "execution_count": 8,
   "metadata": {},
   "outputs": [
    {
     "data": {
      "text/plain": [
       "' Hey there What can I help you'"
      ]
     },
     "execution_count": 8,
     "metadata": {},
     "output_type": "execute_result"
    }
   ],
   "source": [
    "# Sample Data\n",
    "word1 = \"Hey there\"\n",
    "word2 = \"What can I help you\"\n",
    "word1 = \" %s %s\" % (word1, word2)\n",
    "word1"
   ]
  },
  {
   "cell_type": "code",
   "execution_count": 9,
   "metadata": {},
   "outputs": [
    {
     "data": {
      "text/html": [
       "<div>\n",
       "<style scoped>\n",
       "    .dataframe tbody tr th:only-of-type {\n",
       "        vertical-align: middle;\n",
       "    }\n",
       "\n",
       "    .dataframe tbody tr th {\n",
       "        vertical-align: top;\n",
       "    }\n",
       "\n",
       "    .dataframe thead th {\n",
       "        text-align: right;\n",
       "    }\n",
       "</style>\n",
       "<table border=\"1\" class=\"dataframe\">\n",
       "  <thead>\n",
       "    <tr style=\"text-align: right;\">\n",
       "      <th></th>\n",
       "      <th>airline_sentiment</th>\n",
       "      <th>airline</th>\n",
       "      <th>text</th>\n",
       "    </tr>\n",
       "  </thead>\n",
       "  <tbody>\n",
       "    <tr>\n",
       "      <th>0</th>\n",
       "      <td>negative</td>\n",
       "      <td>Southwest</td>\n",
       "      <td>scheduled morning, 2 days fact, yes..not sure...</td>\n",
       "    </tr>\n",
       "    <tr>\n",
       "      <th>1</th>\n",
       "      <td>positive</td>\n",
       "      <td>Southwest</td>\n",
       "      <td>seeing workers time time going beyond love fl...</td>\n",
       "    </tr>\n",
       "    <tr>\n",
       "      <th>2</th>\n",
       "      <td>positive</td>\n",
       "      <td>United</td>\n",
       "      <td>flew ord miami back great crew, service legs....</td>\n",
       "    </tr>\n",
       "    <tr>\n",
       "      <th>3</th>\n",
       "      <td>negative</td>\n",
       "      <td>Southwest</td>\n",
       "      <td>that's horse radish 😤🐴 Southwest</td>\n",
       "    </tr>\n",
       "    <tr>\n",
       "      <th>4</th>\n",
       "      <td>negative</td>\n",
       "      <td>United</td>\n",
       "      <td>ord delayed air force one, last sbn 8:20, 5 m...</td>\n",
       "    </tr>\n",
       "  </tbody>\n",
       "</table>\n",
       "</div>"
      ],
      "text/plain": [
       "  airline_sentiment    airline  \\\n",
       "0          negative  Southwest   \n",
       "1          positive  Southwest   \n",
       "2          positive     United   \n",
       "3          negative  Southwest   \n",
       "4          negative     United   \n",
       "\n",
       "                                                text  \n",
       "0   scheduled morning, 2 days fact, yes..not sure...  \n",
       "1   seeing workers time time going beyond love fl...  \n",
       "2   flew ord miami back great crew, service legs....  \n",
       "3                   that's horse radish 😤🐴 Southwest  \n",
       "4   ord delayed air force one, last sbn 8:20, 5 m...  "
      ]
     },
     "execution_count": 9,
     "metadata": {},
     "output_type": "execute_result"
    }
   ],
   "source": [
    "# Store the indexes where negativereason_gold is not NULL\n",
    "train_index = train[~train.negativereason_gold.isna()].index\n",
    "test_index = test[~test.negativereason_gold.isna()].index\n",
    "\n",
    "# Training Data\n",
    "\n",
    "for index, row in train.iterrows():\n",
    "    tweet = row.text\n",
    "    tweet = re.sub('((www\\.[^\\s]+)|(https?://[^\\s]+))','',tweet) #remove links\n",
    "    tweet = re.sub('@[^\\s]+','',tweet) #remove usernames\n",
    "    tweet = re.sub('[\\s]+', ' ', tweet) #remove additional whitespaces\n",
    "    tweet = re.sub(r'#([^\\s]+)', r'\\1', tweet) #replace #word with word\n",
    "    tweet = tweet.strip('\\'\"') #trim tweet\n",
    "    words = []\n",
    "    for word in tweet.split(): \n",
    "        if word.lower() not in stops:\n",
    "            if word in list(abbreviations.keys()):\n",
    "                words.append(abbreviations[word])\n",
    "            else:\n",
    "                words.append(word.lower())   \n",
    "    tweet = \" \".join(words)\n",
    "    tweet = \" %s %s\" % (tweet, row.airline)\n",
    "    row.text = tweet\n",
    "    if index in train_index:\n",
    "        row.text = \" %s %s\" % (row.text, row.negativereason_gold)\n",
    "\n",
    "# Testing Data\n",
    "\n",
    "for index, row in test.iterrows():\n",
    "    tweet = row.text\n",
    "    tweet = re.sub('((www\\.[^\\s]+)|(https?://[^\\s]+))','',tweet) #remove links\n",
    "    tweet = re.sub('@[^\\s]+','',tweet) #remove usernames\n",
    "    tweet = re.sub('[\\s]+', ' ', tweet) #remove additional whitespaces\n",
    "    tweet = re.sub(r'#([^\\s]+)', r'\\1', tweet) #replace #word with word\n",
    "    tweet = tweet.strip('\\'\"') #trim tweet\n",
    "    words = []\n",
    "    for word in tweet.split(): \n",
    "#         if not hasNumbers(word):\n",
    "        if word.lower() not in stops:\n",
    "            if word in list(abbreviations.keys()):\n",
    "                words.append(abbreviations[word])\n",
    "            else:\n",
    "                words.append(word.lower())\n",
    "    tweet = \" \".join(words)\n",
    "    tweet = \" %s %s\" % (tweet, row.airline)\n",
    "    row.text = tweet\n",
    "    if index in test_index:\n",
    "        row.text = \" %s %s\" % (row.text, row.negativereason_gold)\n",
    "\n",
    "del train['negativereason_gold']\n",
    "del test['negativereason_gold']\n",
    "train.head()"
   ]
  },
  {
   "cell_type": "code",
   "execution_count": 10,
   "metadata": {},
   "outputs": [],
   "source": [
    "# Decode the Emoji\n",
    "\n",
    "def deEmojify(inputString):\n",
    "    return inputString.encode('ascii', 'ignore').decode('ascii')\n",
    "\n",
    "for index, row in train.iterrows():\n",
    "    row.text = deEmojify(row.text)\n",
    "\n",
    "for index, row in test.iterrows():\n",
    "    row.text = deEmojify(row.text)"
   ]
  },
  {
   "cell_type": "code",
   "execution_count": 11,
   "metadata": {},
   "outputs": [],
   "source": [
    "# Rmove the Numbers\n",
    "\n",
    "def hasNumbers(inputString):\n",
    "    return any(char.isdigit() for char in inputString)\n",
    "\n",
    "for index, row in train.iterrows():\n",
    "    words = row.text.split()\n",
    "    new_words = []\n",
    "    for word in words:\n",
    "        if not hasNumbers(word):\n",
    "            new_words.append(word)\n",
    "    row.text = \" \".join(new_words)\n",
    "    \n",
    "for index, row in test.iterrows():\n",
    "    words = row.text.split()\n",
    "    new_words = []\n",
    "    for word in words:\n",
    "        if not hasNumbers(word):\n",
    "            new_words.append(word)\n",
    "    row.text = \" \".join(new_words)\n",
    "        "
   ]
  },
  {
   "cell_type": "code",
   "execution_count": 12,
   "metadata": {},
   "outputs": [
    {
     "data": {
      "text/html": [
       "<div>\n",
       "<style scoped>\n",
       "    .dataframe tbody tr th:only-of-type {\n",
       "        vertical-align: middle;\n",
       "    }\n",
       "\n",
       "    .dataframe tbody tr th {\n",
       "        vertical-align: top;\n",
       "    }\n",
       "\n",
       "    .dataframe thead th {\n",
       "        text-align: right;\n",
       "    }\n",
       "</style>\n",
       "<table border=\"1\" class=\"dataframe\">\n",
       "  <thead>\n",
       "    <tr style=\"text-align: right;\">\n",
       "      <th></th>\n",
       "      <th>airline_sentiment</th>\n",
       "      <th>airline</th>\n",
       "      <th>text</th>\n",
       "    </tr>\n",
       "  </thead>\n",
       "  <tbody>\n",
       "    <tr>\n",
       "      <th>0</th>\n",
       "      <td>negative</td>\n",
       "      <td>Southwest</td>\n",
       "      <td>scheduled morning, days fact, yes..not sure ev...</td>\n",
       "    </tr>\n",
       "    <tr>\n",
       "      <th>1</th>\n",
       "      <td>positive</td>\n",
       "      <td>Southwest</td>\n",
       "      <td>seeing workers time time going beyond love fly...</td>\n",
       "    </tr>\n",
       "    <tr>\n",
       "      <th>2</th>\n",
       "      <td>positive</td>\n",
       "      <td>United</td>\n",
       "      <td>flew ord miami back great crew, service legs. ...</td>\n",
       "    </tr>\n",
       "    <tr>\n",
       "      <th>3</th>\n",
       "      <td>negative</td>\n",
       "      <td>Southwest</td>\n",
       "      <td>that's horse radish Southwest</td>\n",
       "    </tr>\n",
       "    <tr>\n",
       "      <th>4</th>\n",
       "      <td>negative</td>\n",
       "      <td>United</td>\n",
       "      <td>ord delayed air force one, last sbn minutes la...</td>\n",
       "    </tr>\n",
       "  </tbody>\n",
       "</table>\n",
       "</div>"
      ],
      "text/plain": [
       "  airline_sentiment    airline  \\\n",
       "0          negative  Southwest   \n",
       "1          positive  Southwest   \n",
       "2          positive     United   \n",
       "3          negative  Southwest   \n",
       "4          negative     United   \n",
       "\n",
       "                                                text  \n",
       "0  scheduled morning, days fact, yes..not sure ev...  \n",
       "1  seeing workers time time going beyond love fly...  \n",
       "2  flew ord miami back great crew, service legs. ...  \n",
       "3                      that's horse radish Southwest  \n",
       "4  ord delayed air force one, last sbn minutes la...  "
      ]
     },
     "execution_count": 12,
     "metadata": {},
     "output_type": "execute_result"
    }
   ],
   "source": [
    "train.head()"
   ]
  },
  {
   "cell_type": "code",
   "execution_count": 13,
   "metadata": {},
   "outputs": [],
   "source": [
    "# Creating Vocab and Data Formatting\n",
    "v = TfidfVectorizer(analyzer='word', max_features=3150, max_df = 0.8, ngram_range=(1,1))\n",
    "\n",
    "# Split the Training Data\n",
    "x_train,x_test, y_train, y_test = train_test_split(train.text, train.airline_sentiment)\n",
    "train_features= v.fit_transform(x_train)\n",
    "test_features=v.transform(x_test)"
   ]
  },
  {
   "cell_type": "code",
   "execution_count": 14,
   "metadata": {},
   "outputs": [],
   "source": [
    "# Applying Logistic Regression and measure its accuracy\n",
    "accuracy = []\n",
    "for c in range(5, 100):\n",
    "    clf = LogisticRegression(C = c*0.1, solver = 'liblinear', multi_class = 'auto')\n",
    "    clf.fit(train_features, y_train)\n",
    "    accuracy.append(clf.score(test_features, y_test))"
   ]
  },
  {
   "cell_type": "code",
   "execution_count": 15,
   "metadata": {},
   "outputs": [
    {
     "data": {
      "image/png": "[encoded data removed]",
      "text/plain": [
       "<Figure size 640x480 with 1 Axes>"
      ]
     },
     "metadata": {},
     "output_type": "display_data"
    }
   ],
   "source": [
    "import matplotlib.pyplot as plt\n",
    "plt.plot(range(len(accuracy)), accuracy)\n",
    "plt.grid() "
   ]
  },
  {
   "cell_type": "code",
   "execution_count": 16,
   "metadata": {},
   "outputs": [
    {
     "data": {
      "text/plain": [
       "0.7737704918032787"
      ]
     },
     "execution_count": 16,
     "metadata": {},
     "output_type": "execute_result"
    }
   ],
   "source": [
    "clf = LogisticRegression(C = 2.1, solver='liblinear', multi_class='auto')\n",
    "clf.fit(train_features,y_train)\n",
    "clf.score(test_features, y_test)"
   ]
  },
  {
   "cell_type": "code",
   "execution_count": 17,
   "metadata": {},
   "outputs": [],
   "source": [
    "# Store the predicted values\n",
    "train_data = v.fit_transform(train.text)\n",
    "test_data = v.transform(test.text)\n",
    "clf.fit(train_data, train.airline_sentiment)\n",
    "pred = clf.predict(test_data)\n",
    "with open('predictions_twitter.csv', 'w') as f:\n",
    "    for item in pred:\n",
    "        f.write(\"%s\\n\" % item)"
   ]
  },
  {
   "cell_type": "code",
   "execution_count": 18,
   "metadata": {},
   "outputs": [
    {
     "data": {
      "image/png": "[encoded data removed]",
      "text/plain": [
       "<Figure size 640x480 with 1 Axes>"
      ]
     },
     "metadata": {},
     "output_type": "display_data"
    }
   ],
   "source": [
    "# Applying SVM \n",
    "train_features= v.fit_transform(x_train)\n",
    "test_features=v.transform(x_test)\n",
    "accuracy = []\n",
    "for c in range(50, 70):\n",
    "    clf = SVC(kernel = 'linear', C = c*0.02, gamma = 'scale')\n",
    "    clf.fit(train_features, y_train)\n",
    "    accuracy.append(clf.score(test_features, y_test))\n",
    "\n",
    "plt.plot(range(len(accuracy)), accuracy)\n",
    "plt.grid() "
   ]
  },
  {
   "cell_type": "code",
   "execution_count": 19,
   "metadata": {},
   "outputs": [
    {
     "data": {
      "text/plain": [
       "0.7683060109289618"
      ]
     },
     "execution_count": 19,
     "metadata": {},
     "output_type": "execute_result"
    }
   ],
   "source": [
    "clf2 = SVC(kernel=\"linear\", C= 1.20, gamma = 'scale')\n",
    "clf2.fit(train_features,y_train)\n",
    "clf2.score(test_features, y_test)"
   ]
  },
  {
   "cell_type": "code",
   "execution_count": 20,
   "metadata": {},
   "outputs": [],
   "source": [
    "pred = clf2.predict(test_data)\n",
    "with open('predictions_twitter2.csv', 'w') as f: #less accurate\n",
    "    for item in pred:\n",
    "        f.write(\"%s\\n\" % item)"
   ]
  },
  {
   "cell_type": "code",
   "execution_count": 21,
   "metadata": {},
   "outputs": [],
   "source": [
    "import pickle\n",
    "pickle.dump(clf2, open('SVM.pkl','wb'))\n",
    "pickle.dump(v, open('v.pkl', 'wb') )\n",
    "pickle.dump(clf,open(\"logistic.pkl\",'wb'))"
   ]
  }
 ],
 "metadata": {
  "kernelspec": {
   "display_name": "Python 3",
   "language": "python",
   "name": "python3"
  },
  "language_info": {
   "codemirror_mode": {
    "name": "ipython",
    "version": 3
   },
   "file_extension": ".py",
   "mimetype": "text/x-python",
   "name": "python",
   "nbconvert_exporter": "python",
   "pygments_lexer": "ipython3",
   "version": "3.11.0"
  },
  "orig_nbformat": 4
 },
 "nbformat": 4,
 "nbformat_minor": 2
}
